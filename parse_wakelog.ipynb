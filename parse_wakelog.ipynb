{
 "metadata": {
  "name": "",
  "signature": "sha256:b7aab9933d35cd3552991ee62645b1d8cc6026bd6446f478ca070cf18bfdb3aa"
 },
 "nbformat": 3,
 "nbformat_minor": 0,
 "worksheets": [
  {
   "cells": [
    {
     "cell_type": "code",
     "collapsed": false,
     "input": [
      "import pandas as pd\n",
      "import calendar\n",
      "import numpy"
     ],
     "language": "python",
     "metadata": {},
     "outputs": [],
     "prompt_number": 53
    },
    {
     "cell_type": "code",
     "collapsed": false,
     "input": [
      "D = pd.read_table('wakestats.dat', names = ['host', 'dow', 'month', 'day', 'time', 'tz', 'year'],\n",
      "                                          parse_dates = {'dtime': ['dow', 'month', 'day', 'time', 'year', 'tz']}, \n",
      "                                          sep = ' ', \n",
      "                                          index_col='dtime', \n",
      "                                          header=None)\n",
      "#print(D)"
     ],
     "language": "python",
     "metadata": {},
     "outputs": [],
     "prompt_number": 57
    },
    {
     "cell_type": "code",
     "collapsed": false,
     "input": [
      "# Group the data by time of the week and show a weekly view of useage\n",
      "\n",
      "# define a function to assign values to day of week. 0 = Monday, 6 = Sunday\n",
      "# x.0 = midnight, 0.99 = 11:59 or so pm\n",
      "\n",
      "def wk2num(dt):\n",
      "    \"\"\"take in a datetime object and return a number, 0-6.99 corresponding to day of week and time\"\"\"\n",
      "    \n",
      "    import numpy\n",
      "    \n",
      "    wkd = dt.isoweekday() - 1\n",
      "    tme = (dt.hour + (dt.minute / 60.)) / 24.\n",
      "            \n",
      "    return wkd + tme\n",
      "    #return str(bins[numpy.abs(bins-val).argmin()])\n",
      "\n",
      "H = D.groupby('host')"
     ],
     "language": "python",
     "metadata": {},
     "outputs": [],
     "prompt_number": 58
    },
    {
     "cell_type": "code",
     "collapsed": false,
     "input": [
      "import matplotlib.pyplot as plt\n",
      "\n",
      "fig = plt.figure(figsize=(10,4), dpi=300)\n",
      "ax = fig.add_subplot(111)\n",
      "\n",
      "for g in H.groups.keys():\n",
      "    counts = [wk2num(v) for v in H.get_group(g).index]\n",
      "    ax.hist(counts, bins=numpy.arange(0, 7, 0.03),  histtype='step', label=g)\n",
      "        \n",
      "    \n",
      "\n",
      "ax.set_xticks(numpy.arange(7))\n",
      "ax.set_xticks(numpy.arange(7)+.5, minor=True)\n",
      "ax.set_xticklabels([])\n",
      "ax.set_xticklabels(calendar.day_name[0:7], minor=True)\n",
      "ax.set_yticks([])\n",
      "\n",
      "ax.set_xlabel('Day of Week')\n",
      "ax.set_ylabel('Computer Useage')\n",
      "plt.legend()\n",
      "\n",
      "plt.savefig('out/week_use.png')"
     ],
     "language": "python",
     "metadata": {},
     "outputs": [
      {
       "metadata": {},
       "output_type": "display_data",
       "png": "[encoded data removed]",
       "text": [
        "<matplotlib.figure.Figure at 0x5d41310>"
       ]
      }
     ],
     "prompt_number": 64
    }
   ],
   "metadata": {}
  }
 ]
}